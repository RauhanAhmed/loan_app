{
  "nbformat": 4,
  "nbformat_minor": 0,
  "metadata": {
    "colab": {
      "name": "Accenture_hackathon.ipynb",
      "provenance": [],
      "collapsed_sections": []
    },
    "kernelspec": {
      "display_name": "Python 3",
      "language": "python",
      "name": "python3"
    },
    "language_info": {
      "codemirror_mode": {
        "name": "ipython",
        "version": 3
      },
      "file_extension": ".py",
      "mimetype": "text/x-python",
      "name": "python",
      "nbconvert_exporter": "python",
      "pygments_lexer": "ipython3",
      "version": "3.8.5"
    }
  },
  "cells": [
    {
      "cell_type": "code",
      "metadata": {
        "id": "XA2C81qsBexr"
      },
      "source": [
        "### Importing Required Libraries\n",
        "import numpy as np\n",
        "import pandas as pd\n",
        "from matplotlib import pyplot as plt\n",
        "import seaborn as sns\n",
        "\n",
        "\n",
        "### Avoiding Warnings\n",
        "import warnings\n",
        "warnings.filterwarnings(action='ignore')"
      ],
      "execution_count": 1,
      "outputs": []
    },
    {
      "cell_type": "code",
      "metadata": {
        "id": "kEP7wBjwBex8"
      },
      "source": [
        "### Extracting the Data\n",
        "df = pd.read_csv(r\"/content/kiva_loans.csv\")"
      ],
      "execution_count": 2,
      "outputs": []
    },
    {
      "cell_type": "code",
      "metadata": {
        "colab": {
          "base_uri": "https://localhost:8080/",
          "height": 581
        },
        "id": "jFLhzSwbsY7R",
        "outputId": "a812bc13-354e-417c-f281-827b07934e97"
      },
      "source": [
        "### Reading the Data\n",
        "df.head()"
      ],
      "execution_count": 3,
      "outputs": [
        {
          "output_type": "execute_result",
          "data": {
            "text/html": [
              "<div>\n",
              "<style scoped>\n",
              "    .dataframe tbody tr th:only-of-type {\n",
              "        vertical-align: middle;\n",
              "    }\n",
              "\n",
              "    .dataframe tbody tr th {\n",
              "        vertical-align: top;\n",
              "    }\n",
              "\n",
              "    .dataframe thead th {\n",
              "        text-align: right;\n",
              "    }\n",
              "</style>\n",
              "<table border=\"1\" class=\"dataframe\">\n",
              "  <thead>\n",
              "    <tr style=\"text-align: right;\">\n",
              "      <th></th>\n",
              "      <th>id</th>\n",
              "      <th>funded_amount</th>\n",
              "      <th>loan_amount</th>\n",
              "      <th>activity</th>\n",
              "      <th>sector</th>\n",
              "      <th>use</th>\n",
              "      <th>partner_id</th>\n",
              "      <th>posted_time</th>\n",
              "      <th>disbursed_time</th>\n",
              "      <th>funded_time</th>\n",
              "      <th>term_in_months</th>\n",
              "      <th>lender_count</th>\n",
              "      <th>tags</th>\n",
              "      <th>borrower_genders</th>\n",
              "      <th>repayment_interval</th>\n",
              "      <th>date</th>\n",
              "    </tr>\n",
              "  </thead>\n",
              "  <tbody>\n",
              "    <tr>\n",
              "      <th>0</th>\n",
              "      <td>653051</td>\n",
              "      <td>300</td>\n",
              "      <td>300</td>\n",
              "      <td>Fruits &amp; Vegetables</td>\n",
              "      <td>Food</td>\n",
              "      <td>To buy seasonal, fresh fruits to sell.</td>\n",
              "      <td>247.0</td>\n",
              "      <td>2014-01-01 06:12:39+00:00</td>\n",
              "      <td>2013-12-17 08:00:00+00:00</td>\n",
              "      <td>2014-01-02 10:06:32+00:00</td>\n",
              "      <td>12.0</td>\n",
              "      <td>12.0</td>\n",
              "      <td>NaN</td>\n",
              "      <td>female</td>\n",
              "      <td>irregular</td>\n",
              "      <td>1/1/2014</td>\n",
              "    </tr>\n",
              "    <tr>\n",
              "      <th>1</th>\n",
              "      <td>653053</td>\n",
              "      <td>575</td>\n",
              "      <td>575</td>\n",
              "      <td>Rickshaw</td>\n",
              "      <td>Transportation</td>\n",
              "      <td>to repair and maintain the auto rickshaw used ...</td>\n",
              "      <td>247.0</td>\n",
              "      <td>2014-01-01 06:51:08+00:00</td>\n",
              "      <td>2013-12-17 08:00:00+00:00</td>\n",
              "      <td>2014-01-02 09:17:23+00:00</td>\n",
              "      <td>11.0</td>\n",
              "      <td>14.0</td>\n",
              "      <td>NaN</td>\n",
              "      <td>female, female</td>\n",
              "      <td>irregular</td>\n",
              "      <td>1/1/2014</td>\n",
              "    </tr>\n",
              "    <tr>\n",
              "      <th>2</th>\n",
              "      <td>653068</td>\n",
              "      <td>150</td>\n",
              "      <td>150</td>\n",
              "      <td>Transportation</td>\n",
              "      <td>Transportation</td>\n",
              "      <td>To repair their old cycle-van and buy another ...</td>\n",
              "      <td>334.0</td>\n",
              "      <td>2014-01-01 09:58:07+00:00</td>\n",
              "      <td>2013-12-17 08:00:00+00:00</td>\n",
              "      <td>2014-01-01 16:01:36+00:00</td>\n",
              "      <td>43.0</td>\n",
              "      <td>6.0</td>\n",
              "      <td>user_favorite, user_favorite</td>\n",
              "      <td>female</td>\n",
              "      <td>bullet</td>\n",
              "      <td>1/1/2014</td>\n",
              "    </tr>\n",
              "    <tr>\n",
              "      <th>3</th>\n",
              "      <td>653063</td>\n",
              "      <td>200</td>\n",
              "      <td>200</td>\n",
              "      <td>Embroidery</td>\n",
              "      <td>Arts</td>\n",
              "      <td>to purchase an embroidery machine and a variet...</td>\n",
              "      <td>247.0</td>\n",
              "      <td>2014-01-01 08:03:11+00:00</td>\n",
              "      <td>2013-12-24 08:00:00+00:00</td>\n",
              "      <td>2014-01-01 13:00:00+00:00</td>\n",
              "      <td>11.0</td>\n",
              "      <td>8.0</td>\n",
              "      <td>NaN</td>\n",
              "      <td>female</td>\n",
              "      <td>irregular</td>\n",
              "      <td>1/1/2014</td>\n",
              "    </tr>\n",
              "    <tr>\n",
              "      <th>4</th>\n",
              "      <td>653084</td>\n",
              "      <td>400</td>\n",
              "      <td>400</td>\n",
              "      <td>Milk Sales</td>\n",
              "      <td>Food</td>\n",
              "      <td>to purchase one buffalo.</td>\n",
              "      <td>245.0</td>\n",
              "      <td>2014-01-01 11:53:19+00:00</td>\n",
              "      <td>2013-12-17 08:00:00+00:00</td>\n",
              "      <td>2014-01-01 19:18:51+00:00</td>\n",
              "      <td>14.0</td>\n",
              "      <td>16.0</td>\n",
              "      <td>NaN</td>\n",
              "      <td>female</td>\n",
              "      <td>monthly</td>\n",
              "      <td>1/1/2014</td>\n",
              "    </tr>\n",
              "  </tbody>\n",
              "</table>\n",
              "</div>"
            ],
            "text/plain": [
              "       id  funded_amount  ...  repayment_interval      date\n",
              "0  653051            300  ...           irregular  1/1/2014\n",
              "1  653053            575  ...           irregular  1/1/2014\n",
              "2  653068            150  ...              bullet  1/1/2014\n",
              "3  653063            200  ...           irregular  1/1/2014\n",
              "4  653084            400  ...             monthly  1/1/2014\n",
              "\n",
              "[5 rows x 16 columns]"
            ]
          },
          "metadata": {
            "tags": []
          },
          "execution_count": 3
        }
      ]
    },
    {
      "cell_type": "code",
      "metadata": {
        "colab": {
          "base_uri": "https://localhost:8080/"
        },
        "id": "MOyg99XKPfli",
        "outputId": "27522820-4508-4efb-c2bf-dcddfa624fe0"
      },
      "source": [
        "df.columns"
      ],
      "execution_count": 4,
      "outputs": [
        {
          "output_type": "execute_result",
          "data": {
            "text/plain": [
              "Index(['id', 'funded_amount', 'loan_amount', 'activity', 'sector', 'use',\n",
              "       'partner_id', 'posted_time', 'disbursed_time', 'funded_time',\n",
              "       'term_in_months', 'lender_count', 'tags', 'borrower_genders',\n",
              "       'repayment_interval', 'date'],\n",
              "      dtype='object')"
            ]
          },
          "metadata": {
            "tags": []
          },
          "execution_count": 4
        }
      ]
    },
    {
      "cell_type": "code",
      "metadata": {
        "colab": {
          "base_uri": "https://localhost:8080/",
          "height": 204
        },
        "id": "6CopAok9BeyE",
        "scrolled": true,
        "outputId": "5b98aded-32ab-4990-d8d4-d3842341cf70"
      },
      "source": [
        "### Feature Selection\n",
        "required_columns = ['funded_amount','loan_amount','sector','term_in_months','borrower_genders','repayment_interval']\n",
        "df = df[required_columns]\n",
        "df.head()"
      ],
      "execution_count": 5,
      "outputs": [
        {
          "output_type": "execute_result",
          "data": {
            "text/html": [
              "<div>\n",
              "<style scoped>\n",
              "    .dataframe tbody tr th:only-of-type {\n",
              "        vertical-align: middle;\n",
              "    }\n",
              "\n",
              "    .dataframe tbody tr th {\n",
              "        vertical-align: top;\n",
              "    }\n",
              "\n",
              "    .dataframe thead th {\n",
              "        text-align: right;\n",
              "    }\n",
              "</style>\n",
              "<table border=\"1\" class=\"dataframe\">\n",
              "  <thead>\n",
              "    <tr style=\"text-align: right;\">\n",
              "      <th></th>\n",
              "      <th>funded_amount</th>\n",
              "      <th>loan_amount</th>\n",
              "      <th>sector</th>\n",
              "      <th>term_in_months</th>\n",
              "      <th>borrower_genders</th>\n",
              "      <th>repayment_interval</th>\n",
              "    </tr>\n",
              "  </thead>\n",
              "  <tbody>\n",
              "    <tr>\n",
              "      <th>0</th>\n",
              "      <td>300</td>\n",
              "      <td>300</td>\n",
              "      <td>Food</td>\n",
              "      <td>12.0</td>\n",
              "      <td>female</td>\n",
              "      <td>irregular</td>\n",
              "    </tr>\n",
              "    <tr>\n",
              "      <th>1</th>\n",
              "      <td>575</td>\n",
              "      <td>575</td>\n",
              "      <td>Transportation</td>\n",
              "      <td>11.0</td>\n",
              "      <td>female, female</td>\n",
              "      <td>irregular</td>\n",
              "    </tr>\n",
              "    <tr>\n",
              "      <th>2</th>\n",
              "      <td>150</td>\n",
              "      <td>150</td>\n",
              "      <td>Transportation</td>\n",
              "      <td>43.0</td>\n",
              "      <td>female</td>\n",
              "      <td>bullet</td>\n",
              "    </tr>\n",
              "    <tr>\n",
              "      <th>3</th>\n",
              "      <td>200</td>\n",
              "      <td>200</td>\n",
              "      <td>Arts</td>\n",
              "      <td>11.0</td>\n",
              "      <td>female</td>\n",
              "      <td>irregular</td>\n",
              "    </tr>\n",
              "    <tr>\n",
              "      <th>4</th>\n",
              "      <td>400</td>\n",
              "      <td>400</td>\n",
              "      <td>Food</td>\n",
              "      <td>14.0</td>\n",
              "      <td>female</td>\n",
              "      <td>monthly</td>\n",
              "    </tr>\n",
              "  </tbody>\n",
              "</table>\n",
              "</div>"
            ],
            "text/plain": [
              "   funded_amount  loan_amount  ... borrower_genders  repayment_interval\n",
              "0            300          300  ...           female           irregular\n",
              "1            575          575  ...   female, female           irregular\n",
              "2            150          150  ...           female              bullet\n",
              "3            200          200  ...           female           irregular\n",
              "4            400          400  ...           female             monthly\n",
              "\n",
              "[5 rows x 6 columns]"
            ]
          },
          "metadata": {
            "tags": []
          },
          "execution_count": 5
        }
      ]
    },
    {
      "cell_type": "code",
      "metadata": {
        "colab": {
          "base_uri": "https://localhost:8080/"
        },
        "id": "-vqt18duXXIE",
        "outputId": "3d94e952-8ba7-433d-9b82-232b74eb044c"
      },
      "source": [
        "df.info()"
      ],
      "execution_count": 6,
      "outputs": [
        {
          "output_type": "stream",
          "text": [
            "<class 'pandas.core.frame.DataFrame'>\n",
            "RangeIndex: 243941 entries, 0 to 243940\n",
            "Data columns (total 6 columns):\n",
            " #   Column              Non-Null Count   Dtype  \n",
            "---  ------              --------------   -----  \n",
            " 0   funded_amount       243941 non-null  int64  \n",
            " 1   loan_amount         243941 non-null  int64  \n",
            " 2   sector              243940 non-null  object \n",
            " 3   term_in_months      243940 non-null  float64\n",
            " 4   borrower_genders    240797 non-null  object \n",
            " 5   repayment_interval  243940 non-null  object \n",
            "dtypes: float64(1), int64(2), object(3)\n",
            "memory usage: 11.2+ MB\n"
          ],
          "name": "stdout"
        }
      ]
    },
    {
      "cell_type": "code",
      "metadata": {
        "colab": {
          "base_uri": "https://localhost:8080/"
        },
        "id": "Tt2ju4twBeyL",
        "outputId": "1ecd21a4-97e9-4f5f-f5ee-7fe9e0dbe743"
      },
      "source": [
        "df.isnull().sum()"
      ],
      "execution_count": 7,
      "outputs": [
        {
          "output_type": "execute_result",
          "data": {
            "text/plain": [
              "funded_amount            0\n",
              "loan_amount              0\n",
              "sector                   1\n",
              "term_in_months           1\n",
              "borrower_genders      3144\n",
              "repayment_interval       1\n",
              "dtype: int64"
            ]
          },
          "metadata": {
            "tags": []
          },
          "execution_count": 7
        }
      ]
    },
    {
      "cell_type": "code",
      "metadata": {
        "colab": {
          "base_uri": "https://localhost:8080/"
        },
        "id": "d9QFrkPdBeyN",
        "outputId": "437c8974-bcc8-4a72-a853-2bfb54496983"
      },
      "source": [
        "### Handling NaN values\n",
        "df = df.dropna()\n",
        "df.isnull().sum()"
      ],
      "execution_count": 8,
      "outputs": [
        {
          "output_type": "execute_result",
          "data": {
            "text/plain": [
              "funded_amount         0\n",
              "loan_amount           0\n",
              "sector                0\n",
              "term_in_months        0\n",
              "borrower_genders      0\n",
              "repayment_interval    0\n",
              "dtype: int64"
            ]
          },
          "metadata": {
            "tags": []
          },
          "execution_count": 8
        }
      ]
    },
    {
      "cell_type": "code",
      "metadata": {
        "colab": {
          "base_uri": "https://localhost:8080/",
          "height": 221
        },
        "id": "MQwqoQQ8BeyP",
        "outputId": "312a7b71-28cd-4a00-a7bb-1841d2b389fb"
      },
      "source": [
        "df['funded'] = df['loan_amount'] - df['funded_amount']\n",
        "df.tail()"
      ],
      "execution_count": 9,
      "outputs": [
        {
          "output_type": "execute_result",
          "data": {
            "text/html": [
              "<div>\n",
              "<style scoped>\n",
              "    .dataframe tbody tr th:only-of-type {\n",
              "        vertical-align: middle;\n",
              "    }\n",
              "\n",
              "    .dataframe tbody tr th {\n",
              "        vertical-align: top;\n",
              "    }\n",
              "\n",
              "    .dataframe thead th {\n",
              "        text-align: right;\n",
              "    }\n",
              "</style>\n",
              "<table border=\"1\" class=\"dataframe\">\n",
              "  <thead>\n",
              "    <tr style=\"text-align: right;\">\n",
              "      <th></th>\n",
              "      <th>funded_amount</th>\n",
              "      <th>loan_amount</th>\n",
              "      <th>sector</th>\n",
              "      <th>term_in_months</th>\n",
              "      <th>borrower_genders</th>\n",
              "      <th>repayment_interval</th>\n",
              "      <th>funded</th>\n",
              "    </tr>\n",
              "  </thead>\n",
              "  <tbody>\n",
              "    <tr>\n",
              "      <th>243935</th>\n",
              "      <td>775</td>\n",
              "      <td>1000</td>\n",
              "      <td>Housing</td>\n",
              "      <td>26.0</td>\n",
              "      <td>male</td>\n",
              "      <td>monthly</td>\n",
              "      <td>225</td>\n",
              "    </tr>\n",
              "    <tr>\n",
              "      <th>243936</th>\n",
              "      <td>625</td>\n",
              "      <td>625</td>\n",
              "      <td>Housing</td>\n",
              "      <td>15.0</td>\n",
              "      <td>female</td>\n",
              "      <td>monthly</td>\n",
              "      <td>0</td>\n",
              "    </tr>\n",
              "    <tr>\n",
              "      <th>243937</th>\n",
              "      <td>4850</td>\n",
              "      <td>4850</td>\n",
              "      <td>Clothing</td>\n",
              "      <td>9.0</td>\n",
              "      <td>female, female, female, male, female, female, ...</td>\n",
              "      <td>monthly</td>\n",
              "      <td>0</td>\n",
              "    </tr>\n",
              "    <tr>\n",
              "      <th>243938</th>\n",
              "      <td>3100</td>\n",
              "      <td>3100</td>\n",
              "      <td>Food</td>\n",
              "      <td>23.0</td>\n",
              "      <td>female</td>\n",
              "      <td>monthly</td>\n",
              "      <td>0</td>\n",
              "    </tr>\n",
              "    <tr>\n",
              "      <th>243939</th>\n",
              "      <td>400</td>\n",
              "      <td>400</td>\n",
              "      <td>Services</td>\n",
              "      <td>14.0</td>\n",
              "      <td>female</td>\n",
              "      <td>monthly</td>\n",
              "      <td>0</td>\n",
              "    </tr>\n",
              "  </tbody>\n",
              "</table>\n",
              "</div>"
            ],
            "text/plain": [
              "        funded_amount  loan_amount  ... repayment_interval  funded\n",
              "243935            775         1000  ...            monthly     225\n",
              "243936            625          625  ...            monthly       0\n",
              "243937           4850         4850  ...            monthly       0\n",
              "243938           3100         3100  ...            monthly       0\n",
              "243939            400          400  ...            monthly       0\n",
              "\n",
              "[5 rows x 7 columns]"
            ]
          },
          "metadata": {
            "tags": []
          },
          "execution_count": 9
        }
      ]
    },
    {
      "cell_type": "code",
      "metadata": {
        "colab": {
          "base_uri": "https://localhost:8080/"
        },
        "id": "4c386trpBeyS",
        "outputId": "7a84a39c-cf0e-46f0-8c4c-e636b39ed3b5"
      },
      "source": [
        "df = df[df['funded']>=0]\n",
        "df.shape"
      ],
      "execution_count": 10,
      "outputs": [
        {
          "output_type": "execute_result",
          "data": {
            "text/plain": [
              "(240797, 7)"
            ]
          },
          "metadata": {
            "tags": []
          },
          "execution_count": 10
        }
      ]
    },
    {
      "cell_type": "code",
      "metadata": {
        "colab": {
          "base_uri": "https://localhost:8080/",
          "height": 221
        },
        "id": "-hDUonWtBeyY",
        "scrolled": true,
        "outputId": "9cefe359-6efd-4846-d961-acca600b683f"
      },
      "source": [
        "### classifying whether a person will get a loan or not\n",
        "### replacing the values in funded columns as 0 or 1\n",
        "### 0 suggests that the person either doesn't get the loan \n",
        "### 1 suggests that the person partially gets the loan\n",
        "### Similiarly, 2 in the funded columns tells us that the person gets the loan\n",
        "\n",
        "def encoder(dataset):\n",
        "  a = list(dataset.loc[dataset['funded_amount'] == 0].index)\n",
        "  b = list(dataset.loc[dataset['funded'] == 0].index)\n",
        "  c = list(dataset.loc[dataset['funded'] != 0].index)\n",
        "\n",
        "  dataset.funded.loc[c] = 1\n",
        "  dataset.funded.loc[b] = 2\n",
        "  dataset.funded.loc[a] = 0\n",
        "\n",
        "encoder(df)\n",
        "df.tail()"
      ],
      "execution_count": 11,
      "outputs": [
        {
          "output_type": "execute_result",
          "data": {
            "text/html": [
              "<div>\n",
              "<style scoped>\n",
              "    .dataframe tbody tr th:only-of-type {\n",
              "        vertical-align: middle;\n",
              "    }\n",
              "\n",
              "    .dataframe tbody tr th {\n",
              "        vertical-align: top;\n",
              "    }\n",
              "\n",
              "    .dataframe thead th {\n",
              "        text-align: right;\n",
              "    }\n",
              "</style>\n",
              "<table border=\"1\" class=\"dataframe\">\n",
              "  <thead>\n",
              "    <tr style=\"text-align: right;\">\n",
              "      <th></th>\n",
              "      <th>funded_amount</th>\n",
              "      <th>loan_amount</th>\n",
              "      <th>sector</th>\n",
              "      <th>term_in_months</th>\n",
              "      <th>borrower_genders</th>\n",
              "      <th>repayment_interval</th>\n",
              "      <th>funded</th>\n",
              "    </tr>\n",
              "  </thead>\n",
              "  <tbody>\n",
              "    <tr>\n",
              "      <th>243935</th>\n",
              "      <td>775</td>\n",
              "      <td>1000</td>\n",
              "      <td>Housing</td>\n",
              "      <td>26.0</td>\n",
              "      <td>male</td>\n",
              "      <td>monthly</td>\n",
              "      <td>1</td>\n",
              "    </tr>\n",
              "    <tr>\n",
              "      <th>243936</th>\n",
              "      <td>625</td>\n",
              "      <td>625</td>\n",
              "      <td>Housing</td>\n",
              "      <td>15.0</td>\n",
              "      <td>female</td>\n",
              "      <td>monthly</td>\n",
              "      <td>2</td>\n",
              "    </tr>\n",
              "    <tr>\n",
              "      <th>243937</th>\n",
              "      <td>4850</td>\n",
              "      <td>4850</td>\n",
              "      <td>Clothing</td>\n",
              "      <td>9.0</td>\n",
              "      <td>female, female, female, male, female, female, ...</td>\n",
              "      <td>monthly</td>\n",
              "      <td>2</td>\n",
              "    </tr>\n",
              "    <tr>\n",
              "      <th>243938</th>\n",
              "      <td>3100</td>\n",
              "      <td>3100</td>\n",
              "      <td>Food</td>\n",
              "      <td>23.0</td>\n",
              "      <td>female</td>\n",
              "      <td>monthly</td>\n",
              "      <td>2</td>\n",
              "    </tr>\n",
              "    <tr>\n",
              "      <th>243939</th>\n",
              "      <td>400</td>\n",
              "      <td>400</td>\n",
              "      <td>Services</td>\n",
              "      <td>14.0</td>\n",
              "      <td>female</td>\n",
              "      <td>monthly</td>\n",
              "      <td>2</td>\n",
              "    </tr>\n",
              "  </tbody>\n",
              "</table>\n",
              "</div>"
            ],
            "text/plain": [
              "        funded_amount  loan_amount  ... repayment_interval  funded\n",
              "243935            775         1000  ...            monthly       1\n",
              "243936            625          625  ...            monthly       2\n",
              "243937           4850         4850  ...            monthly       2\n",
              "243938           3100         3100  ...            monthly       2\n",
              "243939            400          400  ...            monthly       2\n",
              "\n",
              "[5 rows x 7 columns]"
            ]
          },
          "metadata": {
            "tags": []
          },
          "execution_count": 11
        }
      ]
    },
    {
      "cell_type": "code",
      "metadata": {
        "colab": {
          "base_uri": "https://localhost:8080/",
          "height": 282
        },
        "id": "UeMkiru-xIax",
        "outputId": "fef8fd7a-26b6-4fb3-b9e9-7409f61e66e3"
      },
      "source": [
        "sns.barplot(x = df.funded.value_counts(normalize = True).index, y=df.funded.value_counts(normalize = True))"
      ],
      "execution_count": 12,
      "outputs": [
        {
          "output_type": "execute_result",
          "data": {
            "text/plain": [
              "<matplotlib.axes._subplots.AxesSubplot at 0x7f192d142f10>"
            ]
          },
          "metadata": {
            "tags": []
          },
          "execution_count": 12
        },
        {
          "output_type": "display_data",
          "data": {
            "image/png": "[encoded data removed]",
            "text/plain": [
              "<Figure size 432x288 with 1 Axes>"
            ]
          },
          "metadata": {
            "tags": [],
            "needs_background": "light"
          }
        }
      ]
    },
    {
      "cell_type": "code",
      "metadata": {
        "colab": {
          "base_uri": "https://localhost:8080/",
          "height": 204
        },
        "id": "MSZD7nYGyVX8",
        "outputId": "3c38a21d-c770-44f4-de01-eb0c525e8bc8"
      },
      "source": [
        "### putting the value in borrower_genders column as 1 where atleast one male member is present else 0\n",
        "\n",
        "lst = []\n",
        "for i in range(1,301):\n",
        "  lst.append(('female, '*i).strip()[:len(('female, '*i).strip())-1])\n",
        "\n",
        "df['borrower_genders'].replace(to_replace=lst, value=['female' for x in range(1,301)], inplace=True)\n",
        "\n",
        "df['borrower_genders'] = np.where(df['borrower_genders']=='female', 0, 1)\n",
        "df.head()"
      ],
      "execution_count": 13,
      "outputs": [
        {
          "output_type": "execute_result",
          "data": {
            "text/html": [
              "<div>\n",
              "<style scoped>\n",
              "    .dataframe tbody tr th:only-of-type {\n",
              "        vertical-align: middle;\n",
              "    }\n",
              "\n",
              "    .dataframe tbody tr th {\n",
              "        vertical-align: top;\n",
              "    }\n",
              "\n",
              "    .dataframe thead th {\n",
              "        text-align: right;\n",
              "    }\n",
              "</style>\n",
              "<table border=\"1\" class=\"dataframe\">\n",
              "  <thead>\n",
              "    <tr style=\"text-align: right;\">\n",
              "      <th></th>\n",
              "      <th>funded_amount</th>\n",
              "      <th>loan_amount</th>\n",
              "      <th>sector</th>\n",
              "      <th>term_in_months</th>\n",
              "      <th>borrower_genders</th>\n",
              "      <th>repayment_interval</th>\n",
              "      <th>funded</th>\n",
              "    </tr>\n",
              "  </thead>\n",
              "  <tbody>\n",
              "    <tr>\n",
              "      <th>0</th>\n",
              "      <td>300</td>\n",
              "      <td>300</td>\n",
              "      <td>Food</td>\n",
              "      <td>12.0</td>\n",
              "      <td>0</td>\n",
              "      <td>irregular</td>\n",
              "      <td>2</td>\n",
              "    </tr>\n",
              "    <tr>\n",
              "      <th>1</th>\n",
              "      <td>575</td>\n",
              "      <td>575</td>\n",
              "      <td>Transportation</td>\n",
              "      <td>11.0</td>\n",
              "      <td>0</td>\n",
              "      <td>irregular</td>\n",
              "      <td>2</td>\n",
              "    </tr>\n",
              "    <tr>\n",
              "      <th>2</th>\n",
              "      <td>150</td>\n",
              "      <td>150</td>\n",
              "      <td>Transportation</td>\n",
              "      <td>43.0</td>\n",
              "      <td>0</td>\n",
              "      <td>bullet</td>\n",
              "      <td>2</td>\n",
              "    </tr>\n",
              "    <tr>\n",
              "      <th>3</th>\n",
              "      <td>200</td>\n",
              "      <td>200</td>\n",
              "      <td>Arts</td>\n",
              "      <td>11.0</td>\n",
              "      <td>0</td>\n",
              "      <td>irregular</td>\n",
              "      <td>2</td>\n",
              "    </tr>\n",
              "    <tr>\n",
              "      <th>4</th>\n",
              "      <td>400</td>\n",
              "      <td>400</td>\n",
              "      <td>Food</td>\n",
              "      <td>14.0</td>\n",
              "      <td>0</td>\n",
              "      <td>monthly</td>\n",
              "      <td>2</td>\n",
              "    </tr>\n",
              "  </tbody>\n",
              "</table>\n",
              "</div>"
            ],
            "text/plain": [
              "   funded_amount  loan_amount  ... repayment_interval  funded\n",
              "0            300          300  ...          irregular       2\n",
              "1            575          575  ...          irregular       2\n",
              "2            150          150  ...             bullet       2\n",
              "3            200          200  ...          irregular       2\n",
              "4            400          400  ...            monthly       2\n",
              "\n",
              "[5 rows x 7 columns]"
            ]
          },
          "metadata": {
            "tags": []
          },
          "execution_count": 13
        }
      ]
    },
    {
      "cell_type": "code",
      "metadata": {
        "colab": {
          "base_uri": "https://localhost:8080/",
          "height": 204
        },
        "id": "ETly9cEDt_we",
        "outputId": "144983e0-799b-43c0-85ff-70455e245473"
      },
      "source": [
        "### Changing the column borrowers_gender to has_males where 1 suggest that atleast 1 male member is present\n",
        "df.rename({'borrower_genders':'has_males'}, axis=1, inplace=True)\n",
        "df.head()"
      ],
      "execution_count": 14,
      "outputs": [
        {
          "output_type": "execute_result",
          "data": {
            "text/html": [
              "<div>\n",
              "<style scoped>\n",
              "    .dataframe tbody tr th:only-of-type {\n",
              "        vertical-align: middle;\n",
              "    }\n",
              "\n",
              "    .dataframe tbody tr th {\n",
              "        vertical-align: top;\n",
              "    }\n",
              "\n",
              "    .dataframe thead th {\n",
              "        text-align: right;\n",
              "    }\n",
              "</style>\n",
              "<table border=\"1\" class=\"dataframe\">\n",
              "  <thead>\n",
              "    <tr style=\"text-align: right;\">\n",
              "      <th></th>\n",
              "      <th>funded_amount</th>\n",
              "      <th>loan_amount</th>\n",
              "      <th>sector</th>\n",
              "      <th>term_in_months</th>\n",
              "      <th>has_males</th>\n",
              "      <th>repayment_interval</th>\n",
              "      <th>funded</th>\n",
              "    </tr>\n",
              "  </thead>\n",
              "  <tbody>\n",
              "    <tr>\n",
              "      <th>0</th>\n",
              "      <td>300</td>\n",
              "      <td>300</td>\n",
              "      <td>Food</td>\n",
              "      <td>12.0</td>\n",
              "      <td>0</td>\n",
              "      <td>irregular</td>\n",
              "      <td>2</td>\n",
              "    </tr>\n",
              "    <tr>\n",
              "      <th>1</th>\n",
              "      <td>575</td>\n",
              "      <td>575</td>\n",
              "      <td>Transportation</td>\n",
              "      <td>11.0</td>\n",
              "      <td>0</td>\n",
              "      <td>irregular</td>\n",
              "      <td>2</td>\n",
              "    </tr>\n",
              "    <tr>\n",
              "      <th>2</th>\n",
              "      <td>150</td>\n",
              "      <td>150</td>\n",
              "      <td>Transportation</td>\n",
              "      <td>43.0</td>\n",
              "      <td>0</td>\n",
              "      <td>bullet</td>\n",
              "      <td>2</td>\n",
              "    </tr>\n",
              "    <tr>\n",
              "      <th>3</th>\n",
              "      <td>200</td>\n",
              "      <td>200</td>\n",
              "      <td>Arts</td>\n",
              "      <td>11.0</td>\n",
              "      <td>0</td>\n",
              "      <td>irregular</td>\n",
              "      <td>2</td>\n",
              "    </tr>\n",
              "    <tr>\n",
              "      <th>4</th>\n",
              "      <td>400</td>\n",
              "      <td>400</td>\n",
              "      <td>Food</td>\n",
              "      <td>14.0</td>\n",
              "      <td>0</td>\n",
              "      <td>monthly</td>\n",
              "      <td>2</td>\n",
              "    </tr>\n",
              "  </tbody>\n",
              "</table>\n",
              "</div>"
            ],
            "text/plain": [
              "   funded_amount  loan_amount  ... repayment_interval  funded\n",
              "0            300          300  ...          irregular       2\n",
              "1            575          575  ...          irregular       2\n",
              "2            150          150  ...             bullet       2\n",
              "3            200          200  ...          irregular       2\n",
              "4            400          400  ...            monthly       2\n",
              "\n",
              "[5 rows x 7 columns]"
            ]
          },
          "metadata": {
            "tags": []
          },
          "execution_count": 14
        }
      ]
    },
    {
      "cell_type": "code",
      "metadata": {
        "colab": {
          "base_uri": "https://localhost:8080/"
        },
        "id": "tUpNwoMuDds9",
        "outputId": "c86db308-350d-4cff-8308-3129069fe827"
      },
      "source": [
        "df.has_males.value_counts()"
      ],
      "execution_count": 15,
      "outputs": [
        {
          "output_type": "execute_result",
          "data": {
            "text/plain": [
              "0    175201\n",
              "1     65596\n",
              "Name: has_males, dtype: int64"
            ]
          },
          "metadata": {
            "tags": []
          },
          "execution_count": 15
        }
      ]
    },
    {
      "cell_type": "code",
      "metadata": {
        "colab": {
          "base_uri": "https://localhost:8080/",
          "height": 204
        },
        "id": "l0y_2TaSGL2E",
        "outputId": "3566d1b9-c47d-4d1d-d07c-31617883d38d"
      },
      "source": [
        "df.tail()"
      ],
      "execution_count": 16,
      "outputs": [
        {
          "output_type": "execute_result",
          "data": {
            "text/html": [
              "<div>\n",
              "<style scoped>\n",
              "    .dataframe tbody tr th:only-of-type {\n",
              "        vertical-align: middle;\n",
              "    }\n",
              "\n",
              "    .dataframe tbody tr th {\n",
              "        vertical-align: top;\n",
              "    }\n",
              "\n",
              "    .dataframe thead th {\n",
              "        text-align: right;\n",
              "    }\n",
              "</style>\n",
              "<table border=\"1\" class=\"dataframe\">\n",
              "  <thead>\n",
              "    <tr style=\"text-align: right;\">\n",
              "      <th></th>\n",
              "      <th>funded_amount</th>\n",
              "      <th>loan_amount</th>\n",
              "      <th>sector</th>\n",
              "      <th>term_in_months</th>\n",
              "      <th>has_males</th>\n",
              "      <th>repayment_interval</th>\n",
              "      <th>funded</th>\n",
              "    </tr>\n",
              "  </thead>\n",
              "  <tbody>\n",
              "    <tr>\n",
              "      <th>243935</th>\n",
              "      <td>775</td>\n",
              "      <td>1000</td>\n",
              "      <td>Housing</td>\n",
              "      <td>26.0</td>\n",
              "      <td>1</td>\n",
              "      <td>monthly</td>\n",
              "      <td>1</td>\n",
              "    </tr>\n",
              "    <tr>\n",
              "      <th>243936</th>\n",
              "      <td>625</td>\n",
              "      <td>625</td>\n",
              "      <td>Housing</td>\n",
              "      <td>15.0</td>\n",
              "      <td>0</td>\n",
              "      <td>monthly</td>\n",
              "      <td>2</td>\n",
              "    </tr>\n",
              "    <tr>\n",
              "      <th>243937</th>\n",
              "      <td>4850</td>\n",
              "      <td>4850</td>\n",
              "      <td>Clothing</td>\n",
              "      <td>9.0</td>\n",
              "      <td>1</td>\n",
              "      <td>monthly</td>\n",
              "      <td>2</td>\n",
              "    </tr>\n",
              "    <tr>\n",
              "      <th>243938</th>\n",
              "      <td>3100</td>\n",
              "      <td>3100</td>\n",
              "      <td>Food</td>\n",
              "      <td>23.0</td>\n",
              "      <td>0</td>\n",
              "      <td>monthly</td>\n",
              "      <td>2</td>\n",
              "    </tr>\n",
              "    <tr>\n",
              "      <th>243939</th>\n",
              "      <td>400</td>\n",
              "      <td>400</td>\n",
              "      <td>Services</td>\n",
              "      <td>14.0</td>\n",
              "      <td>0</td>\n",
              "      <td>monthly</td>\n",
              "      <td>2</td>\n",
              "    </tr>\n",
              "  </tbody>\n",
              "</table>\n",
              "</div>"
            ],
            "text/plain": [
              "        funded_amount  loan_amount  ... repayment_interval  funded\n",
              "243935            775         1000  ...            monthly       1\n",
              "243936            625          625  ...            monthly       2\n",
              "243937           4850         4850  ...            monthly       2\n",
              "243938           3100         3100  ...            monthly       2\n",
              "243939            400          400  ...            monthly       2\n",
              "\n",
              "[5 rows x 7 columns]"
            ]
          },
          "metadata": {
            "tags": []
          },
          "execution_count": 16
        }
      ]
    },
    {
      "cell_type": "code",
      "metadata": {
        "colab": {
          "base_uri": "https://localhost:8080/"
        },
        "id": "PiGKHZ66Guyr",
        "outputId": "c9f09cf7-1485-49b3-91f7-c27fcd3fab93"
      },
      "source": [
        "df.sector.value_counts()"
      ],
      "execution_count": 17,
      "outputs": [
        {
          "output_type": "execute_result",
          "data": {
            "text/plain": [
              "Agriculture       64078\n",
              "Food              50300\n",
              "Retail            46837\n",
              "Services          16601\n",
              "Housing           13914\n",
              "Clothing          13181\n",
              "Education         10677\n",
              "Personal Use       7571\n",
              "Transportation     5966\n",
              "Arts               3677\n",
              "Construction       2601\n",
              "Manufacturing      2533\n",
              "Health             2326\n",
              "Entertainment       291\n",
              "Wholesale           244\n",
              "Name: sector, dtype: int64"
            ]
          },
          "metadata": {
            "tags": []
          },
          "execution_count": 17
        }
      ]
    },
    {
      "cell_type": "code",
      "metadata": {
        "id": "LTbSDH_ZWCjr"
      },
      "source": [
        "others = list(df.sector.value_counts()[df.sector.value_counts(normalize=True)*100 < 5].index)\n",
        "df['sector'] = df.sector.replace(to_replace = others, value = ['others' for x in range(0,len(others))])"
      ],
      "execution_count": 18,
      "outputs": []
    },
    {
      "cell_type": "code",
      "metadata": {
        "colab": {
          "base_uri": "https://localhost:8080/",
          "height": 224
        },
        "id": "xt5ADm6aHhx4",
        "outputId": "6332a8f0-0fd4-4ed6-839e-2e46079aa1e9"
      },
      "source": [
        "df = pd.get_dummies(df)\n",
        "df.head()"
      ],
      "execution_count": 19,
      "outputs": [
        {
          "output_type": "execute_result",
          "data": {
            "text/html": [
              "<div>\n",
              "<style scoped>\n",
              "    .dataframe tbody tr th:only-of-type {\n",
              "        vertical-align: middle;\n",
              "    }\n",
              "\n",
              "    .dataframe tbody tr th {\n",
              "        vertical-align: top;\n",
              "    }\n",
              "\n",
              "    .dataframe thead th {\n",
              "        text-align: right;\n",
              "    }\n",
              "</style>\n",
              "<table border=\"1\" class=\"dataframe\">\n",
              "  <thead>\n",
              "    <tr style=\"text-align: right;\">\n",
              "      <th></th>\n",
              "      <th>funded_amount</th>\n",
              "      <th>loan_amount</th>\n",
              "      <th>term_in_months</th>\n",
              "      <th>has_males</th>\n",
              "      <th>funded</th>\n",
              "      <th>sector_Agriculture</th>\n",
              "      <th>sector_Clothing</th>\n",
              "      <th>sector_Food</th>\n",
              "      <th>sector_Housing</th>\n",
              "      <th>sector_Retail</th>\n",
              "      <th>sector_Services</th>\n",
              "      <th>sector_others</th>\n",
              "      <th>repayment_interval_bullet</th>\n",
              "      <th>repayment_interval_irregular</th>\n",
              "      <th>repayment_interval_monthly</th>\n",
              "      <th>repayment_interval_weekly</th>\n",
              "    </tr>\n",
              "  </thead>\n",
              "  <tbody>\n",
              "    <tr>\n",
              "      <th>0</th>\n",
              "      <td>300</td>\n",
              "      <td>300</td>\n",
              "      <td>12.0</td>\n",
              "      <td>0</td>\n",
              "      <td>2</td>\n",
              "      <td>0</td>\n",
              "      <td>0</td>\n",
              "      <td>1</td>\n",
              "      <td>0</td>\n",
              "      <td>0</td>\n",
              "      <td>0</td>\n",
              "      <td>0</td>\n",
              "      <td>0</td>\n",
              "      <td>1</td>\n",
              "      <td>0</td>\n",
              "      <td>0</td>\n",
              "    </tr>\n",
              "    <tr>\n",
              "      <th>1</th>\n",
              "      <td>575</td>\n",
              "      <td>575</td>\n",
              "      <td>11.0</td>\n",
              "      <td>0</td>\n",
              "      <td>2</td>\n",
              "      <td>0</td>\n",
              "      <td>0</td>\n",
              "      <td>0</td>\n",
              "      <td>0</td>\n",
              "      <td>0</td>\n",
              "      <td>0</td>\n",
              "      <td>1</td>\n",
              "      <td>0</td>\n",
              "      <td>1</td>\n",
              "      <td>0</td>\n",
              "      <td>0</td>\n",
              "    </tr>\n",
              "    <tr>\n",
              "      <th>2</th>\n",
              "      <td>150</td>\n",
              "      <td>150</td>\n",
              "      <td>43.0</td>\n",
              "      <td>0</td>\n",
              "      <td>2</td>\n",
              "      <td>0</td>\n",
              "      <td>0</td>\n",
              "      <td>0</td>\n",
              "      <td>0</td>\n",
              "      <td>0</td>\n",
              "      <td>0</td>\n",
              "      <td>1</td>\n",
              "      <td>1</td>\n",
              "      <td>0</td>\n",
              "      <td>0</td>\n",
              "      <td>0</td>\n",
              "    </tr>\n",
              "    <tr>\n",
              "      <th>3</th>\n",
              "      <td>200</td>\n",
              "      <td>200</td>\n",
              "      <td>11.0</td>\n",
              "      <td>0</td>\n",
              "      <td>2</td>\n",
              "      <td>0</td>\n",
              "      <td>0</td>\n",
              "      <td>0</td>\n",
              "      <td>0</td>\n",
              "      <td>0</td>\n",
              "      <td>0</td>\n",
              "      <td>1</td>\n",
              "      <td>0</td>\n",
              "      <td>1</td>\n",
              "      <td>0</td>\n",
              "      <td>0</td>\n",
              "    </tr>\n",
              "    <tr>\n",
              "      <th>4</th>\n",
              "      <td>400</td>\n",
              "      <td>400</td>\n",
              "      <td>14.0</td>\n",
              "      <td>0</td>\n",
              "      <td>2</td>\n",
              "      <td>0</td>\n",
              "      <td>0</td>\n",
              "      <td>1</td>\n",
              "      <td>0</td>\n",
              "      <td>0</td>\n",
              "      <td>0</td>\n",
              "      <td>0</td>\n",
              "      <td>0</td>\n",
              "      <td>0</td>\n",
              "      <td>1</td>\n",
              "      <td>0</td>\n",
              "    </tr>\n",
              "  </tbody>\n",
              "</table>\n",
              "</div>"
            ],
            "text/plain": [
              "   funded_amount  ...  repayment_interval_weekly\n",
              "0            300  ...                          0\n",
              "1            575  ...                          0\n",
              "2            150  ...                          0\n",
              "3            200  ...                          0\n",
              "4            400  ...                          0\n",
              "\n",
              "[5 rows x 16 columns]"
            ]
          },
          "metadata": {
            "tags": []
          },
          "execution_count": 19
        }
      ]
    },
    {
      "cell_type": "code",
      "metadata": {
        "colab": {
          "base_uri": "https://localhost:8080/",
          "height": 350
        },
        "id": "TIn5DhVZJ2cB",
        "outputId": "1275378c-94d2-4f3e-c7d2-20000df6d2ac"
      },
      "source": [
        "print(df['funded'].value_counts())\n",
        "print('------------------------------------------------------------------')\n",
        "sns.barplot(x=df['funded'].value_counts().index, y=df['funded'].value_counts())\n",
        "plt.show()"
      ],
      "execution_count": 20,
      "outputs": [
        {
          "output_type": "stream",
          "text": [
            "2    227045\n",
            "1     13637\n",
            "0       115\n",
            "Name: funded, dtype: int64\n",
            "------------------------------------------------------------------\n"
          ],
          "name": "stdout"
        },
        {
          "output_type": "display_data",
          "data": {
            "image/png": "[encoded data removed]",
            "text/plain": [
              "<Figure size 432x288 with 1 Axes>"
            ]
          },
          "metadata": {
            "tags": [],
            "needs_background": "light"
          }
        }
      ]
    },
    {
      "cell_type": "code",
      "metadata": {
        "id": "L91_euaReZLN"
      },
      "source": [
        "df.index = [x for x in range(0,len(df.index))]"
      ],
      "execution_count": 21,
      "outputs": []
    },
    {
      "cell_type": "markdown",
      "metadata": {
        "id": "Ja0gonmP0KKa"
      },
      "source": [
        "Resampling Data"
      ]
    },
    {
      "cell_type": "code",
      "metadata": {
        "id": "hIMhxX9G0e_-"
      },
      "source": [
        "X = df.drop(['funded','funded_amount'],axis=1)\n",
        "y = df['funded']"
      ],
      "execution_count": 22,
      "outputs": []
    },
    {
      "cell_type": "code",
      "metadata": {
        "id": "64TxP-SB322i"
      },
      "source": [
        "### performing SMOTE to over-sample the data \n",
        "from imblearn.over_sampling import SMOTE\n",
        "over_sampler = SMOTE()\n",
        "x_smk, y_smk = over_sampler.fit_sample(X, y)"
      ],
      "execution_count": 23,
      "outputs": []
    },
    {
      "cell_type": "code",
      "metadata": {
        "colab": {
          "base_uri": "https://localhost:8080/",
          "height": 350
        },
        "id": "2B3dCjUq8g3R",
        "outputId": "7b1dd105-cc59-4d78-852c-f3b654a609a9"
      },
      "source": [
        "print(pd.Series(y_smk).value_counts())\n",
        "print('------------------------------------------------------------------')\n",
        "sns.barplot(x = pd.Series(y_smk).value_counts().index, y = pd.Series(y_smk).value_counts())\n",
        "plt.show()"
      ],
      "execution_count": 24,
      "outputs": [
        {
          "output_type": "stream",
          "text": [
            "2    227045\n",
            "1    227045\n",
            "0    227045\n",
            "dtype: int64\n",
            "------------------------------------------------------------------\n"
          ],
          "name": "stdout"
        },
        {
          "output_type": "display_data",
          "data": {
            "image/png": "[encoded data removed]",
            "text/plain": [
              "<Figure size 432x288 with 1 Axes>"
            ]
          },
          "metadata": {
            "tags": [],
            "needs_background": "light"
          }
        }
      ]
    },
    {
      "cell_type": "markdown",
      "metadata": {
        "id": "lSkuZdjO_o42"
      },
      "source": [
        "Doing Train Test Split"
      ]
    },
    {
      "cell_type": "code",
      "metadata": {
        "id": "oNwTweh1-L8P"
      },
      "source": [
        "from sklearn.model_selection import train_test_split\n",
        "x_train, x_test, y_train, y_test = train_test_split(x_smk, y_smk, test_size = 0.25, random_state=None)"
      ],
      "execution_count": 25,
      "outputs": []
    },
    {
      "cell_type": "markdown",
      "metadata": {
        "id": "MP4yZWhMAEP1"
      },
      "source": [
        "Model Creation"
      ]
    },
    {
      "cell_type": "code",
      "metadata": {
        "id": "FBNqqQvWDLwJ"
      },
      "source": [
        "from sklearn.metrics import classification_report, confusion_matrix, accuracy_score"
      ],
      "execution_count": 26,
      "outputs": []
    },
    {
      "cell_type": "code",
      "metadata": {
        "colab": {
          "base_uri": "https://localhost:8080/"
        },
        "id": "8iUvPceWJ3Pi",
        "outputId": "f00b9ae7-2511-4324-a99d-ff29d2496a1c"
      },
      "source": [
        "from sklearn.linear_model import LogisticRegression\n",
        "model = LogisticRegression()\n",
        "model.fit(x_train, y_train)\n",
        "\n",
        "### performance metrics\n",
        "\n",
        "print('Accuracy score for this classification is : {}'.format(accuracy_score(y_test, model.predict(x_test))))\n",
        "print('confusion matrix : \\n', confusion_matrix(y_test, model.predict(x_test)))\n",
        "print('classification report : \\n', classification_report(y_test, model.predict(x_test)))"
      ],
      "execution_count": 27,
      "outputs": [
        {
          "output_type": "stream",
          "text": [
            "Accuracy score for this classification is : 0.7941967536585939\n",
            "confusion matrix : \n",
            " [[55699  1256    17]\n",
            " [ 3681 39149 13795]\n",
            " [ 1979 14317 40391]]\n",
            "classification report : \n",
            "               precision    recall  f1-score   support\n",
            "\n",
            "           0       0.91      0.98      0.94     56972\n",
            "           1       0.72      0.69      0.70     56625\n",
            "           2       0.75      0.71      0.73     56687\n",
            "\n",
            "    accuracy                           0.79    170284\n",
            "   macro avg       0.79      0.79      0.79    170284\n",
            "weighted avg       0.79      0.79      0.79    170284\n",
            "\n"
          ],
          "name": "stdout"
        }
      ]
    },
    {
      "cell_type": "code",
      "metadata": {
        "colab": {
          "base_uri": "https://localhost:8080/"
        },
        "id": "IrkYz4VDAGIL",
        "outputId": "3e3f8bfe-c26f-4af4-d845-8e81174ac5b8"
      },
      "source": [
        "from sklearn.ensemble import RandomForestClassifier\n",
        "model = RandomForestClassifier(n_estimators = 20)\n",
        "model.fit(x_train, y_train)\n",
        "\n",
        "### performance metrics\n",
        "\n",
        "print('Accuracy score for this classification is : {}'.format(accuracy_score(y_test, model.predict(x_test))))\n",
        "print('confusion matrix : \\n', confusion_matrix(y_test, model.predict(x_test)))\n",
        "print('classification report : \\n', classification_report(y_test, model.predict(x_test)))"
      ],
      "execution_count": 28,
      "outputs": [
        {
          "output_type": "stream",
          "text": [
            "Accuracy score for this classification is : 0.9365060722087806\n",
            "confusion matrix : \n",
            " [[56908    62     2]\n",
            " [  560 52789  3276]\n",
            " [    7  6905 49775]]\n",
            "classification report : \n",
            "               precision    recall  f1-score   support\n",
            "\n",
            "           0       0.99      1.00      0.99     56972\n",
            "           1       0.88      0.93      0.91     56625\n",
            "           2       0.94      0.88      0.91     56687\n",
            "\n",
            "    accuracy                           0.94    170284\n",
            "   macro avg       0.94      0.94      0.94    170284\n",
            "weighted avg       0.94      0.94      0.94    170284\n",
            "\n"
          ],
          "name": "stdout"
        }
      ]
    },
    {
      "cell_type": "code",
      "metadata": {
        "colab": {
          "base_uri": "https://localhost:8080/"
        },
        "id": "Vj_aZOGkDP_t",
        "outputId": "991e8f21-ade5-4d8d-c18d-074b698a7b40"
      },
      "source": [
        "from sklearn.tree import DecisionTreeClassifier\n",
        "model = DecisionTreeClassifier(max_depth = 20)\n",
        "model.fit(x_train, y_train)\n",
        "\n",
        "### performance metrics\n",
        "\n",
        "print('Accuracy score for this classification is : {}'.format(accuracy_score(y_test, model.predict(x_test))))\n",
        "print('confusion matrix : \\n', confusion_matrix(y_test, model.predict(x_test)))\n",
        "print('classification report : \\n', classification_report(y_test, model.predict(x_test)))"
      ],
      "execution_count": 29,
      "outputs": [
        {
          "output_type": "stream",
          "text": [
            "Accuracy score for this classification is : 0.9269044654811961\n",
            "confusion matrix : \n",
            " [[56936    29     7]\n",
            " [  601 52316  3708]\n",
            " [   21  8081 48585]]\n",
            "classification report : \n",
            "               precision    recall  f1-score   support\n",
            "\n",
            "           0       0.99      1.00      0.99     56972\n",
            "           1       0.87      0.92      0.89     56625\n",
            "           2       0.93      0.86      0.89     56687\n",
            "\n",
            "    accuracy                           0.93    170284\n",
            "   macro avg       0.93      0.93      0.93    170284\n",
            "weighted avg       0.93      0.93      0.93    170284\n",
            "\n"
          ],
          "name": "stdout"
        }
      ]
    },
    {
      "cell_type": "code",
      "metadata": {
        "colab": {
          "base_uri": "https://localhost:8080/"
        },
        "id": "NshuPOJtIoeX",
        "outputId": "329c1163-6f38-4f22-f251-561ea413791c"
      },
      "source": [
        "from xgboost import XGBClassifier\n",
        "model = XGBClassifier()\n",
        "model.fit(x_train, y_train)\n",
        "\n",
        "### performance metrics\n",
        "\n",
        "print('Accuracy score for this classification is : {}'.format(accuracy_score(y_test, model.predict(x_test))))\n",
        "print('confusion matrix : \\n', confusion_matrix(y_test, model.predict(x_test)))\n",
        "print('classification report : \\n', classification_report(y_test, model.predict(x_test)))"
      ],
      "execution_count": 30,
      "outputs": [
        {
          "output_type": "stream",
          "text": [
            "Accuracy score for this classification is : 0.8933898663409363\n",
            "confusion matrix : \n",
            " [[56934    37     1]\n",
            " [ 1292 51127  4206]\n",
            " [  395 12223 44069]]\n",
            "classification report : \n",
            "               precision    recall  f1-score   support\n",
            "\n",
            "           0       0.97      1.00      0.99     56972\n",
            "           1       0.81      0.90      0.85     56625\n",
            "           2       0.91      0.78      0.84     56687\n",
            "\n",
            "    accuracy                           0.89    170284\n",
            "   macro avg       0.90      0.89      0.89    170284\n",
            "weighted avg       0.90      0.89      0.89    170284\n",
            "\n"
          ],
          "name": "stdout"
        }
      ]
    },
    {
      "cell_type": "markdown",
      "metadata": {
        "id": "pWiujY8PJr9W"
      },
      "source": [
        "from here, we infer that RandomForest Classifier is giving us the maximum accuracy. So we make our prediction model based on Random Forests.\n"
      ]
    },
    {
      "cell_type": "code",
      "metadata": {
        "colab": {
          "base_uri": "https://localhost:8080/"
        },
        "id": "8Y7DpGgtKswE",
        "outputId": "a16bd0c1-9b84-4adb-8098-3acaaf554b09"
      },
      "source": [
        "from sklearn.ensemble import RandomForestClassifier\n",
        "model = RandomForestClassifier(n_estimators = 20)\n",
        "model.fit(x_train, y_train)"
      ],
      "execution_count": 31,
      "outputs": [
        {
          "output_type": "execute_result",
          "data": {
            "text/plain": [
              "RandomForestClassifier(bootstrap=True, ccp_alpha=0.0, class_weight=None,\n",
              "                       criterion='gini', max_depth=None, max_features='auto',\n",
              "                       max_leaf_nodes=None, max_samples=None,\n",
              "                       min_impurity_decrease=0.0, min_impurity_split=None,\n",
              "                       min_samples_leaf=1, min_samples_split=2,\n",
              "                       min_weight_fraction_leaf=0.0, n_estimators=20,\n",
              "                       n_jobs=None, oob_score=False, random_state=None,\n",
              "                       verbose=0, warm_start=False)"
            ]
          },
          "metadata": {
            "tags": []
          },
          "execution_count": 31
        }
      ]
    },
    {
      "cell_type": "code",
      "metadata": {
        "id": "z9D5-NDg0tnq"
      },
      "source": [
        "import pickle\n",
        "pickle.dump(model, open(r\"/content/model_clf.pkl\", 'wb'))"
      ],
      "execution_count": 32,
      "outputs": []
    },
    {
      "cell_type": "markdown",
      "metadata": {
        "id": "ac1CR7SI7Z_2"
      },
      "source": [
        "### For Regression part"
      ]
    },
    {
      "cell_type": "code",
      "metadata": {
        "id": "cF_IXbU6t-96"
      },
      "source": [
        "df1 = df[df.funded == 1]"
      ],
      "execution_count": 33,
      "outputs": []
    },
    {
      "cell_type": "code",
      "metadata": {
        "colab": {
          "base_uri": "https://localhost:8080/",
          "height": 131
        },
        "id": "IOUBeweFuKfd",
        "outputId": "42bc9d19-9d20-41e6-dfc9-066ca92b9e7d"
      },
      "source": [
        "df1.head(2)"
      ],
      "execution_count": 34,
      "outputs": [
        {
          "output_type": "execute_result",
          "data": {
            "text/html": [
              "<div>\n",
              "<style scoped>\n",
              "    .dataframe tbody tr th:only-of-type {\n",
              "        vertical-align: middle;\n",
              "    }\n",
              "\n",
              "    .dataframe tbody tr th {\n",
              "        vertical-align: top;\n",
              "    }\n",
              "\n",
              "    .dataframe thead th {\n",
              "        text-align: right;\n",
              "    }\n",
              "</style>\n",
              "<table border=\"1\" class=\"dataframe\">\n",
              "  <thead>\n",
              "    <tr style=\"text-align: right;\">\n",
              "      <th></th>\n",
              "      <th>funded_amount</th>\n",
              "      <th>loan_amount</th>\n",
              "      <th>term_in_months</th>\n",
              "      <th>has_males</th>\n",
              "      <th>funded</th>\n",
              "      <th>sector_Agriculture</th>\n",
              "      <th>sector_Clothing</th>\n",
              "      <th>sector_Food</th>\n",
              "      <th>sector_Housing</th>\n",
              "      <th>sector_Retail</th>\n",
              "      <th>sector_Services</th>\n",
              "      <th>sector_others</th>\n",
              "      <th>repayment_interval_bullet</th>\n",
              "      <th>repayment_interval_irregular</th>\n",
              "      <th>repayment_interval_monthly</th>\n",
              "      <th>repayment_interval_weekly</th>\n",
              "    </tr>\n",
              "  </thead>\n",
              "  <tbody>\n",
              "    <tr>\n",
              "      <th>87</th>\n",
              "      <td>4275</td>\n",
              "      <td>5000</td>\n",
              "      <td>39.0</td>\n",
              "      <td>1</td>\n",
              "      <td>1</td>\n",
              "      <td>0</td>\n",
              "      <td>0</td>\n",
              "      <td>0</td>\n",
              "      <td>1</td>\n",
              "      <td>0</td>\n",
              "      <td>0</td>\n",
              "      <td>0</td>\n",
              "      <td>0</td>\n",
              "      <td>0</td>\n",
              "      <td>1</td>\n",
              "      <td>0</td>\n",
              "    </tr>\n",
              "    <tr>\n",
              "      <th>112</th>\n",
              "      <td>1925</td>\n",
              "      <td>2400</td>\n",
              "      <td>15.0</td>\n",
              "      <td>1</td>\n",
              "      <td>1</td>\n",
              "      <td>0</td>\n",
              "      <td>0</td>\n",
              "      <td>0</td>\n",
              "      <td>0</td>\n",
              "      <td>0</td>\n",
              "      <td>1</td>\n",
              "      <td>0</td>\n",
              "      <td>0</td>\n",
              "      <td>0</td>\n",
              "      <td>1</td>\n",
              "      <td>0</td>\n",
              "    </tr>\n",
              "  </tbody>\n",
              "</table>\n",
              "</div>"
            ],
            "text/plain": [
              "     funded_amount  ...  repayment_interval_weekly\n",
              "87            4275  ...                          0\n",
              "112           1925  ...                          0\n",
              "\n",
              "[2 rows x 16 columns]"
            ]
          },
          "metadata": {
            "tags": []
          },
          "execution_count": 34
        }
      ]
    },
    {
      "cell_type": "code",
      "metadata": {
        "id": "JOX2IxIk7wl7"
      },
      "source": [
        "X = df.drop(['funded_amount', 'funded'],axis = 1)\n",
        "y = df['funded_amount']"
      ],
      "execution_count": 35,
      "outputs": []
    },
    {
      "cell_type": "code",
      "metadata": {
        "id": "ECM_B4mX8ELB"
      },
      "source": [
        "x_train, x_test, y_train, y_test = train_test_split(X, y, test_size=0.1, random_state = None)"
      ],
      "execution_count": 36,
      "outputs": []
    },
    {
      "cell_type": "code",
      "metadata": {
        "id": "wrvgKJwy8SCb"
      },
      "source": [
        "from sklearn.metrics import r2_score, mean_squared_error"
      ],
      "execution_count": 37,
      "outputs": []
    },
    {
      "cell_type": "code",
      "metadata": {
        "colab": {
          "base_uri": "https://localhost:8080/"
        },
        "id": "gVrl_mfr8YVd",
        "outputId": "8ffa1888-7813-4014-aeed-a39b67651652"
      },
      "source": [
        "from sklearn.linear_model import LinearRegression\n",
        "model = LinearRegression()\n",
        "model.fit(x_train, y_train)\n",
        "print('r2score : ', r2_score(y_test, model.predict(x_test)))"
      ],
      "execution_count": 38,
      "outputs": [
        {
          "output_type": "stream",
          "text": [
            "r2score :  0.9431872781987553\n"
          ],
          "name": "stdout"
        }
      ]
    },
    {
      "cell_type": "code",
      "metadata": {
        "colab": {
          "base_uri": "https://localhost:8080/"
        },
        "id": "0TePzASm839y",
        "outputId": "5c839f57-422e-4c75-8efb-93f12ae8ba25"
      },
      "source": [
        "from sklearn.tree import DecisionTreeRegressor\n",
        "model = DecisionTreeRegressor()\n",
        "model.fit(x_train, y_train)\n",
        "print('r2score : ', r2_score(y_test, model.predict(x_test)))"
      ],
      "execution_count": 39,
      "outputs": [
        {
          "output_type": "stream",
          "text": [
            "r2score :  0.9574338360302402\n"
          ],
          "name": "stdout"
        }
      ]
    },
    {
      "cell_type": "code",
      "metadata": {
        "colab": {
          "base_uri": "https://localhost:8080/"
        },
        "id": "YUATipNI9S4c",
        "outputId": "7d67bfa3-9d0a-4ce1-b637-81e51a83bedb"
      },
      "source": [
        "from sklearn.ensemble import RandomForestRegressor\n",
        "model = RandomForestRegressor()\n",
        "model.fit(x_train, y_train)\n",
        "print('r2score : ', r2_score(y_test, model.predict(x_test)))"
      ],
      "execution_count": 40,
      "outputs": [
        {
          "output_type": "stream",
          "text": [
            "r2score :  0.9686746520553248\n"
          ],
          "name": "stdout"
        }
      ]
    },
    {
      "cell_type": "code",
      "metadata": {
        "colab": {
          "base_uri": "https://localhost:8080/"
        },
        "id": "JfJz6y7f9C6J",
        "outputId": "18992ca4-9a34-464d-c48a-ec1e1348ba62"
      },
      "source": [
        "from xgboost import XGBRegressor\n",
        "model = XGBRegressor()\n",
        "model.fit(x_train, y_train)\n",
        "print('r2score : ', r2_score(y_test, model.predict(x_test)))"
      ],
      "execution_count": 41,
      "outputs": [
        {
          "output_type": "stream",
          "text": [
            "[05:26:01] WARNING: /workspace/src/objective/regression_obj.cu:152: reg:linear is now deprecated in favor of reg:squarederror.\n",
            "r2score :  0.9623911027476459\n"
          ],
          "name": "stdout"
        }
      ]
    },
    {
      "cell_type": "markdown",
      "metadata": {
        "id": "qmKhnaPkMF25"
      },
      "source": [
        "from here, we infer that RandomForest Regressor is giving us the maximum accuracy. So we make our prediction model based on Random Forests.\n"
      ]
    },
    {
      "cell_type": "code",
      "metadata": {
        "colab": {
          "base_uri": "https://localhost:8080/"
        },
        "id": "sMcDZGIs5RDR",
        "outputId": "66cc9874-59cb-4d63-af18-9aa1025fc420"
      },
      "source": [
        "model_reg = RandomForestRegressor()\n",
        "model_reg.fit(x_train, y_train)"
      ],
      "execution_count": 42,
      "outputs": [
        {
          "output_type": "execute_result",
          "data": {
            "text/plain": [
              "RandomForestRegressor(bootstrap=True, ccp_alpha=0.0, criterion='mse',\n",
              "                      max_depth=None, max_features='auto', max_leaf_nodes=None,\n",
              "                      max_samples=None, min_impurity_decrease=0.0,\n",
              "                      min_impurity_split=None, min_samples_leaf=1,\n",
              "                      min_samples_split=2, min_weight_fraction_leaf=0.0,\n",
              "                      n_estimators=100, n_jobs=None, oob_score=False,\n",
              "                      random_state=None, verbose=0, warm_start=False)"
            ]
          },
          "metadata": {
            "tags": []
          },
          "execution_count": 42
        }
      ]
    },
    {
      "cell_type": "code",
      "metadata": {
        "id": "7YrA6U8H5bH5"
      },
      "source": [
        "pickle.dump(model_reg, open(\"/content/model_reg.pkl\", \"wb\"))"
      ],
      "execution_count": 43,
      "outputs": []
    },
    {
      "cell_type": "code",
      "metadata": {
        "id": "MXVX37SL9Goi"
      },
      "source": [
        "model_clf = pickle.load(open(r\"/content/model_clf.pkl\", \"rb\"))"
      ],
      "execution_count": 44,
      "outputs": []
    },
    {
      "cell_type": "code",
      "metadata": {
        "id": "UyUCp-9GCs_R",
        "colab": {
          "base_uri": "https://localhost:8080/",
          "height": 179
        },
        "outputId": "5646800e-6a7c-4b27-c421-c23d77dc3f7a"
      },
      "source": [
        "df.columns = ['funded_amount','loan_amount', 'term_in_months', 'has_male',\n",
        "       'funded','Agriculture', 'Food', 'Housing',\n",
        "       'Personal Use', 'Retail', 'Services',\n",
        "       'others', 'bullet',\n",
        "       'irregular', 'monthly',\n",
        "       'weekly']\n",
        "df.head(3)"
      ],
      "execution_count": 45,
      "outputs": [
        {
          "output_type": "execute_result",
          "data": {
            "text/html": [
              "<div>\n",
              "<style scoped>\n",
              "    .dataframe tbody tr th:only-of-type {\n",
              "        vertical-align: middle;\n",
              "    }\n",
              "\n",
              "    .dataframe tbody tr th {\n",
              "        vertical-align: top;\n",
              "    }\n",
              "\n",
              "    .dataframe thead th {\n",
              "        text-align: right;\n",
              "    }\n",
              "</style>\n",
              "<table border=\"1\" class=\"dataframe\">\n",
              "  <thead>\n",
              "    <tr style=\"text-align: right;\">\n",
              "      <th></th>\n",
              "      <th>funded_amount</th>\n",
              "      <th>loan_amount</th>\n",
              "      <th>term_in_months</th>\n",
              "      <th>has_male</th>\n",
              "      <th>funded</th>\n",
              "      <th>Agriculture</th>\n",
              "      <th>Food</th>\n",
              "      <th>Housing</th>\n",
              "      <th>Personal Use</th>\n",
              "      <th>Retail</th>\n",
              "      <th>Services</th>\n",
              "      <th>others</th>\n",
              "      <th>bullet</th>\n",
              "      <th>irregular</th>\n",
              "      <th>monthly</th>\n",
              "      <th>weekly</th>\n",
              "    </tr>\n",
              "  </thead>\n",
              "  <tbody>\n",
              "    <tr>\n",
              "      <th>0</th>\n",
              "      <td>300</td>\n",
              "      <td>300</td>\n",
              "      <td>12.0</td>\n",
              "      <td>0</td>\n",
              "      <td>2</td>\n",
              "      <td>0</td>\n",
              "      <td>0</td>\n",
              "      <td>1</td>\n",
              "      <td>0</td>\n",
              "      <td>0</td>\n",
              "      <td>0</td>\n",
              "      <td>0</td>\n",
              "      <td>0</td>\n",
              "      <td>1</td>\n",
              "      <td>0</td>\n",
              "      <td>0</td>\n",
              "    </tr>\n",
              "    <tr>\n",
              "      <th>1</th>\n",
              "      <td>575</td>\n",
              "      <td>575</td>\n",
              "      <td>11.0</td>\n",
              "      <td>0</td>\n",
              "      <td>2</td>\n",
              "      <td>0</td>\n",
              "      <td>0</td>\n",
              "      <td>0</td>\n",
              "      <td>0</td>\n",
              "      <td>0</td>\n",
              "      <td>0</td>\n",
              "      <td>1</td>\n",
              "      <td>0</td>\n",
              "      <td>1</td>\n",
              "      <td>0</td>\n",
              "      <td>0</td>\n",
              "    </tr>\n",
              "    <tr>\n",
              "      <th>2</th>\n",
              "      <td>150</td>\n",
              "      <td>150</td>\n",
              "      <td>43.0</td>\n",
              "      <td>0</td>\n",
              "      <td>2</td>\n",
              "      <td>0</td>\n",
              "      <td>0</td>\n",
              "      <td>0</td>\n",
              "      <td>0</td>\n",
              "      <td>0</td>\n",
              "      <td>0</td>\n",
              "      <td>1</td>\n",
              "      <td>1</td>\n",
              "      <td>0</td>\n",
              "      <td>0</td>\n",
              "      <td>0</td>\n",
              "    </tr>\n",
              "  </tbody>\n",
              "</table>\n",
              "</div>"
            ],
            "text/plain": [
              "   funded_amount  loan_amount  term_in_months  ...  irregular  monthly  weekly\n",
              "0            300          300            12.0  ...          1        0       0\n",
              "1            575          575            11.0  ...          1        0       0\n",
              "2            150          150            43.0  ...          0        0       0\n",
              "\n",
              "[3 rows x 16 columns]"
            ]
          },
          "metadata": {
            "tags": []
          },
          "execution_count": 45
        }
      ]
    },
    {
      "cell_type": "code",
      "metadata": {
        "id": "N8XpyuNHCXyq"
      },
      "source": [
        "model_reg = pickle.load(open(r\"/content/model_reg.pkl\", \"rb\"))"
      ],
      "execution_count": 46,
      "outputs": []
    },
    {
      "cell_type": "code",
      "metadata": {
        "id": "MFXuinNZDiFm"
      },
      "source": [
        "pickle.dump(df, open(\"/content/dataframe.pkl\", 'wb'))"
      ],
      "execution_count": 47,
      "outputs": []
    }
  ]
}